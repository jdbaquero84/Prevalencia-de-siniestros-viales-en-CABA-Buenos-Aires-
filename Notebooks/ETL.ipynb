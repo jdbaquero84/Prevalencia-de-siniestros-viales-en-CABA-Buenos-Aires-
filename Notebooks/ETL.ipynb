{
 "cells": [
  {
   "cell_type": "code",
   "execution_count": 1,
   "metadata": {},
   "outputs": [],
   "source": [
    "import pandas as pd\n",
    "import numpy as np\n",
    "import warnings  "
   ]
  },
  {
   "cell_type": "markdown",
   "metadata": {},
   "source": [
    "Archivo homicidios, formato xlsx"
   ]
  },
  {
   "cell_type": "code",
   "execution_count": 11,
   "metadata": {},
   "outputs": [],
   "source": [
    "archivo_excel = 'homicidios.xlsx'\n",
    "\n",
    "\n",
    "df_hechos = pd.read_excel(archivo_excel, sheet_name='HECHOS', engine='openpyxl')\n",
    "df_victimas = pd.read_excel(archivo_excel, sheet_name='VICTIMAS', engine='openpyxl')"
   ]
  },
  {
   "cell_type": "markdown",
   "metadata": {},
   "source": [
    "ETL para el dataframe 'df_hechos', primera hoja del xlsx.\n"
   ]
  },
  {
   "cell_type": "code",
   "execution_count": 12,
   "metadata": {},
   "outputs": [
    {
     "data": {
      "text/plain": [
       "(696, 21)"
      ]
     },
     "execution_count": 12,
     "metadata": {},
     "output_type": "execute_result"
    }
   ],
   "source": [
    "df_hechos.shape"
   ]
  },
  {
   "cell_type": "code",
   "execution_count": null,
   "metadata": {},
   "outputs": [],
   "source": [
    "df_hechos.isnull().sum()"
   ]
  },
  {
   "cell_type": "code",
   "execution_count": null,
   "metadata": {},
   "outputs": [],
   "source": [
    "df_hechos.info()"
   ]
  },
  {
   "cell_type": "markdown",
   "metadata": {},
   "source": [
    "Dado que hay datos de la comuna, ademas de latitud y longitud, se decartan las columnas altura y cruce para evitar retirar observaciones ('filas') de la muestra ('dataframe'), Se descarta tambien la columna de participantes debido a que la info se encuentra en (victima y acusado)."
   ]
  },
  {
   "cell_type": "code",
   "execution_count": 15,
   "metadata": {},
   "outputs": [],
   "source": [
    "df_hechos=df_hechos.drop(['Altura','Cruce','PARTICIPANTES'], axis=1)"
   ]
  },
  {
   "cell_type": "markdown",
   "metadata": {},
   "source": [
    "Ahora se inspeccionan valores unicos en algunas columnas"
   ]
  },
  {
   "cell_type": "code",
   "execution_count": 8,
   "metadata": {},
   "outputs": [
    {
     "data": {
      "text/plain": [
       "array(['MOTO', 'AUTO', 'PEATON', 'SD', 'CARGAS', 'BICICLETA', 'PASAJEROS',\n",
       "       'MOVIL', 'OBJETO FIJO', 'PEATON_MOTO'], dtype=object)"
      ]
     },
     "execution_count": 8,
     "metadata": {},
     "output_type": "execute_result"
    }
   ],
   "source": [
    "df_hechos['VICTIMA'].unique()"
   ]
  },
  {
   "cell_type": "code",
   "execution_count": 9,
   "metadata": {},
   "outputs": [
    {
     "data": {
      "text/plain": [
       "array(['AUTO', 'PASAJEROS', 'SD', 'OBJETO FIJO', 'CARGAS', 'MOTO',\n",
       "       'MULTIPLE', 'OTRO', 'BICICLETA', 'TREN'], dtype=object)"
      ]
     },
     "execution_count": 9,
     "metadata": {},
     "output_type": "execute_result"
    }
   ],
   "source": [
    "df_hechos['ACUSADO'].unique()"
   ]
  },
  {
   "cell_type": "code",
   "execution_count": null,
   "metadata": {},
   "outputs": [],
   "source": [
    "df_hechos['Dirección Normalizada'].unique()"
   ]
  },
  {
   "cell_type": "code",
   "execution_count": null,
   "metadata": {},
   "outputs": [],
   "source": [
    "df_hechos['LUGAR_DEL_HECHO'].unique()"
   ]
  },
  {
   "cell_type": "markdown",
   "metadata": {},
   "source": [
    "Tambien descarta la direccion normalizada, la calle y lugar del hecho, se aborda el analisis por comunas."
   ]
  },
  {
   "cell_type": "code",
   "execution_count": 16,
   "metadata": {},
   "outputs": [],
   "source": [
    "df_hechos=df_hechos.drop(['Calle', 'Dirección Normalizada','LUGAR_DEL_HECHO'], axis=1)"
   ]
  },
  {
   "cell_type": "code",
   "execution_count": 17,
   "metadata": {},
   "outputs": [
    {
     "data": {
      "text/plain": [
       "Index(['ID', 'N_VICTIMAS', 'FECHA', 'AAAA', 'MM', 'DD', 'HORA', 'HH',\n",
       "       'TIPO_DE_CALLE', 'COMUNA', 'XY (CABA)', 'pos x', 'pos y', 'VICTIMA',\n",
       "       'ACUSADO'],\n",
       "      dtype='object')"
      ]
     },
     "execution_count": 17,
     "metadata": {},
     "output_type": "execute_result"
    }
   ],
   "source": [
    "df_hechos.columns"
   ]
  },
  {
   "cell_type": "markdown",
   "metadata": {},
   "source": [
    "Se verifican los valores unicos en comunas, ya que debe estar entre 1 y 15, que corresponde a las comunas de capital federal."
   ]
  },
  {
   "cell_type": "code",
   "execution_count": 18,
   "metadata": {},
   "outputs": [
    {
     "data": {
      "text/plain": [
       "array([ 8,  9,  1, 11, 15,  4,  7, 12,  3, 13, 14, 10,  6,  2,  5,  0],\n",
       "      dtype=int64)"
      ]
     },
     "execution_count": 18,
     "metadata": {},
     "output_type": "execute_result"
    }
   ],
   "source": [
    "df_hechos['COMUNA'].unique()"
   ]
  },
  {
   "cell_type": "markdown",
   "metadata": {},
   "source": [
    "Hay dos observaciones con comuna 0, se van a descartar."
   ]
  },
  {
   "cell_type": "code",
   "execution_count": 19,
   "metadata": {},
   "outputs": [],
   "source": [
    "df_hechos=df_hechos[df_hechos['COMUNA']!=0]"
   ]
  },
  {
   "cell_type": "markdown",
   "metadata": {},
   "source": [
    "Se crea una columna con el nombre de la comuna usando una base de datos externa."
   ]
  },
  {
   "cell_type": "code",
   "execution_count": 20,
   "metadata": {},
   "outputs": [],
   "source": [
    "df_comunas = pd.read_excel('nombres_comunas.xlsx', engine='openpyxl')"
   ]
  },
  {
   "cell_type": "code",
   "execution_count": 21,
   "metadata": {},
   "outputs": [],
   "source": [
    "hechos=pd.merge(df_hechos,df_comunas, on='COMUNA', how='inner')"
   ]
  },
  {
   "cell_type": "markdown",
   "metadata": {},
   "source": [
    "Se traslada la posicion de la columna 'NOMBRE_COMUNA'"
   ]
  },
  {
   "cell_type": "code",
   "execution_count": 22,
   "metadata": {},
   "outputs": [],
   "source": [
    "nombre_comuna=hechos.pop('NOMBRE_COMUNA')"
   ]
  },
  {
   "cell_type": "code",
   "execution_count": 23,
   "metadata": {},
   "outputs": [],
   "source": [
    "hechos.insert(10,'NOMBRE_COMUNA',nombre_comuna)"
   ]
  },
  {
   "cell_type": "markdown",
   "metadata": {},
   "source": [
    "Renombre a las variables 'pos x' y 'pos y'."
   ]
  },
  {
   "cell_type": "code",
   "execution_count": 24,
   "metadata": {},
   "outputs": [],
   "source": [
    "hechos=hechos.rename(columns={'pos x':'longitud','pos y':'latitud'})"
   ]
  },
  {
   "cell_type": "code",
   "execution_count": 25,
   "metadata": {},
   "outputs": [
    {
     "name": "stdout",
     "output_type": "stream",
     "text": [
      "Index([516], dtype='int64')\n"
     ]
    }
   ],
   "source": [
    "index_sd=hechos[hechos['HH']=='SD'].index\n",
    "print(index_sd)"
   ]
  },
  {
   "cell_type": "markdown",
   "metadata": {},
   "source": [
    "Al valor SD en la columna hora, se le asigna el valor mas probable dentro de la columna que es 16:00:00"
   ]
  },
  {
   "cell_type": "code",
   "execution_count": 26,
   "metadata": {},
   "outputs": [],
   "source": [
    "hechos.loc[516, 'HH']=16"
   ]
  },
  {
   "cell_type": "code",
   "execution_count": 27,
   "metadata": {},
   "outputs": [],
   "source": [
    "import datetime as dt"
   ]
  },
  {
   "cell_type": "code",
   "execution_count": 28,
   "metadata": {},
   "outputs": [],
   "source": [
    "hechos.loc[516, 'HORA']=dt.time(16,0)"
   ]
  },
  {
   "cell_type": "markdown",
   "metadata": {},
   "source": [
    "se descarta la geocodificacion plana"
   ]
  },
  {
   "cell_type": "code",
   "execution_count": 29,
   "metadata": {},
   "outputs": [],
   "source": [
    "hechos=hechos.drop(['XY (CABA)'], axis=1)"
   ]
  },
  {
   "cell_type": "markdown",
   "metadata": {},
   "source": [
    "Se verifica la existencia de filas duplicadas."
   ]
  },
  {
   "cell_type": "code",
   "execution_count": 30,
   "metadata": {},
   "outputs": [
    {
     "name": "stdout",
     "output_type": "stream",
     "text": [
      "0\n"
     ]
    }
   ],
   "source": [
    "duplicados=hechos.duplicated().sum()\n",
    "print(duplicados)"
   ]
  },
  {
   "cell_type": "code",
   "execution_count": 32,
   "metadata": {},
   "outputs": [
    {
     "data": {
      "text/html": [
       "<div>\n",
       "<style scoped>\n",
       "    .dataframe tbody tr th:only-of-type {\n",
       "        vertical-align: middle;\n",
       "    }\n",
       "\n",
       "    .dataframe tbody tr th {\n",
       "        vertical-align: top;\n",
       "    }\n",
       "\n",
       "    .dataframe thead th {\n",
       "        text-align: right;\n",
       "    }\n",
       "</style>\n",
       "<table border=\"1\" class=\"dataframe\">\n",
       "  <thead>\n",
       "    <tr style=\"text-align: right;\">\n",
       "      <th></th>\n",
       "      <th>ID</th>\n",
       "      <th>N_VICTIMAS</th>\n",
       "      <th>FECHA</th>\n",
       "      <th>AAAA</th>\n",
       "      <th>MM</th>\n",
       "      <th>DD</th>\n",
       "      <th>HORA</th>\n",
       "      <th>HH</th>\n",
       "      <th>TIPO_DE_CALLE</th>\n",
       "      <th>COMUNA</th>\n",
       "      <th>NOMBRE_COMUNA</th>\n",
       "      <th>longitud</th>\n",
       "      <th>latitud</th>\n",
       "      <th>VICTIMA</th>\n",
       "      <th>ACUSADO</th>\n",
       "    </tr>\n",
       "  </thead>\n",
       "  <tbody>\n",
       "    <tr>\n",
       "      <th>0</th>\n",
       "      <td>2016-0001</td>\n",
       "      <td>1</td>\n",
       "      <td>2016-01-01</td>\n",
       "      <td>2016</td>\n",
       "      <td>1</td>\n",
       "      <td>1</td>\n",
       "      <td>04:00:00</td>\n",
       "      <td>4</td>\n",
       "      <td>AVENIDA</td>\n",
       "      <td>8</td>\n",
       "      <td>Villa Soldati, Villa Riachuelo y Villa Lugano.</td>\n",
       "      <td>-58.47533969</td>\n",
       "      <td>-34.68757022</td>\n",
       "      <td>MOTO</td>\n",
       "      <td>AUTO</td>\n",
       "    </tr>\n",
       "    <tr>\n",
       "      <th>1</th>\n",
       "      <td>2016-0002</td>\n",
       "      <td>1</td>\n",
       "      <td>2016-01-02</td>\n",
       "      <td>2016</td>\n",
       "      <td>1</td>\n",
       "      <td>2</td>\n",
       "      <td>01:15:00</td>\n",
       "      <td>1</td>\n",
       "      <td>GRAL PAZ</td>\n",
       "      <td>9</td>\n",
       "      <td>Liniers, Mataderos y Parque Avellaneda.</td>\n",
       "      <td>-58.50877521</td>\n",
       "      <td>-34.66977709</td>\n",
       "      <td>AUTO</td>\n",
       "      <td>PASAJEROS</td>\n",
       "    </tr>\n",
       "    <tr>\n",
       "      <th>2</th>\n",
       "      <td>2016-0003</td>\n",
       "      <td>1</td>\n",
       "      <td>2016-01-03</td>\n",
       "      <td>2016</td>\n",
       "      <td>1</td>\n",
       "      <td>3</td>\n",
       "      <td>07:00:00</td>\n",
       "      <td>7</td>\n",
       "      <td>AVENIDA</td>\n",
       "      <td>1</td>\n",
       "      <td>Retiro, San Nicolás, Puerto Madero, San Telmo,...</td>\n",
       "      <td>-58.39040293</td>\n",
       "      <td>-34.63189362</td>\n",
       "      <td>MOTO</td>\n",
       "      <td>AUTO</td>\n",
       "    </tr>\n",
       "  </tbody>\n",
       "</table>\n",
       "</div>"
      ],
      "text/plain": [
       "          ID  N_VICTIMAS      FECHA  AAAA  MM  DD      HORA HH TIPO_DE_CALLE  \\\n",
       "0  2016-0001           1 2016-01-01  2016   1   1  04:00:00  4       AVENIDA   \n",
       "1  2016-0002           1 2016-01-02  2016   1   2  01:15:00  1      GRAL PAZ   \n",
       "2  2016-0003           1 2016-01-03  2016   1   3  07:00:00  7       AVENIDA   \n",
       "\n",
       "   COMUNA                                      NOMBRE_COMUNA      longitud  \\\n",
       "0       8     Villa Soldati, Villa Riachuelo y Villa Lugano.  -58.47533969   \n",
       "1       9            Liniers, Mataderos y Parque Avellaneda.  -58.50877521   \n",
       "2       1  Retiro, San Nicolás, Puerto Madero, San Telmo,...  -58.39040293   \n",
       "\n",
       "        latitud VICTIMA    ACUSADO  \n",
       "0  -34.68757022    MOTO       AUTO  \n",
       "1  -34.66977709    AUTO  PASAJEROS  \n",
       "2  -34.63189362    MOTO       AUTO  "
      ]
     },
     "execution_count": 32,
     "metadata": {},
     "output_type": "execute_result"
    }
   ],
   "source": [
    "hechos.head(3)"
   ]
  },
  {
   "cell_type": "markdown",
   "metadata": {},
   "source": []
  },
  {
   "cell_type": "markdown",
   "metadata": {},
   "source": [
    "Se guarda en formato csv."
   ]
  },
  {
   "cell_type": "code",
   "execution_count": 30,
   "metadata": {},
   "outputs": [],
   "source": [
    "hechos.to_csv('Hechos.csv', index='False')"
   ]
  },
  {
   "cell_type": "markdown",
   "metadata": {},
   "source": [
    "ETL para el dataframe 'df_victimas'"
   ]
  },
  {
   "cell_type": "code",
   "execution_count": 33,
   "metadata": {},
   "outputs": [
    {
     "data": {
      "text/plain": [
       "(717, 10)"
      ]
     },
     "execution_count": 33,
     "metadata": {},
     "output_type": "execute_result"
    }
   ],
   "source": [
    "df_victimas.shape"
   ]
  },
  {
   "cell_type": "markdown",
   "metadata": {},
   "source": [
    "Inspección de celdas vacías, duplicados y tipo de datos.\n"
   ]
  },
  {
   "cell_type": "code",
   "execution_count": null,
   "metadata": {},
   "outputs": [],
   "source": [
    "df_victimas.isnull().sum()"
   ]
  },
  {
   "cell_type": "code",
   "execution_count": 34,
   "metadata": {},
   "outputs": [
    {
     "data": {
      "text/plain": [
       "0"
      ]
     },
     "execution_count": 34,
     "metadata": {},
     "output_type": "execute_result"
    }
   ],
   "source": [
    "df_victimas.duplicated().sum()"
   ]
  },
  {
   "cell_type": "code",
   "execution_count": null,
   "metadata": {},
   "outputs": [],
   "source": [
    "df_victimas.info()"
   ]
  },
  {
   "cell_type": "markdown",
   "metadata": {},
   "source": [
    "Se cambia el tipo de dato de la variable edad a tipo entero, los string no numericos 'SD', se pasan a valor NaN, para remplazarlos despues por el promedio redondeado"
   ]
  },
  {
   "cell_type": "code",
   "execution_count": 35,
   "metadata": {},
   "outputs": [],
   "source": [
    "# Reemplazar todos los valores no numéricos con NaN\n",
    "df_victimas['EDAD'] = pd.to_numeric(df_victimas['EDAD'], errors='coerce')\n"
   ]
  },
  {
   "cell_type": "code",
   "execution_count": 36,
   "metadata": {},
   "outputs": [
    {
     "name": "stderr",
     "output_type": "stream",
     "text": [
      "C:\\Users\\57319\\AppData\\Local\\Temp\\ipykernel_9592\\166703752.py:3: FutureWarning: A value is trying to be set on a copy of a DataFrame or Series through chained assignment using an inplace method.\n",
      "The behavior will change in pandas 3.0. This inplace method will never work because the intermediate object on which we are setting values always behaves as a copy.\n",
      "\n",
      "For example, when doing 'df[col].method(value, inplace=True)', try using 'df.method({col: value}, inplace=True)' or df[col] = df[col].method(value) instead, to perform the operation inplace on the original object.\n",
      "\n",
      "\n",
      "  df_victimas['EDAD'].fillna(promedio, inplace=True)\n"
     ]
    }
   ],
   "source": [
    "# Reemplazo los valores NaN con el promedio de la columna\n",
    "promedio = df_victimas['EDAD'].mean()\n",
    "df_victimas['EDAD'].fillna(promedio, inplace=True)\n"
   ]
  },
  {
   "cell_type": "code",
   "execution_count": 37,
   "metadata": {},
   "outputs": [],
   "source": [
    "df_victimas['EDAD'] = df_victimas['EDAD'].astype(int)\n"
   ]
  },
  {
   "cell_type": "markdown",
   "metadata": {},
   "source": [
    "Se verifican datos unicos de cada variable"
   ]
  },
  {
   "cell_type": "code",
   "execution_count": 39,
   "metadata": {},
   "outputs": [
    {
     "data": {
      "text/plain": [
       "array(['CONDUCTOR', 'PASAJERO_ACOMPAÑANTE', 'PEATON', 'SD', 'CICLISTA'],\n",
       "      dtype=object)"
      ]
     },
     "execution_count": 39,
     "metadata": {},
     "output_type": "execute_result"
    }
   ],
   "source": [
    "df_victimas['ROL'].unique()"
   ]
  },
  {
   "cell_type": "code",
   "execution_count": 41,
   "metadata": {},
   "outputs": [
    {
     "data": {
      "text/plain": [
       "array(['MOTO', 'AUTO', 'PEATON', 'SD', 'CARGAS', 'BICICLETA', 'PASAJEROS',\n",
       "       'MOVIL'], dtype=object)"
      ]
     },
     "execution_count": 41,
     "metadata": {},
     "output_type": "execute_result"
    }
   ],
   "source": [
    "df_victimas['VICTIMA'].unique()"
   ]
  },
  {
   "cell_type": "code",
   "execution_count": 42,
   "metadata": {},
   "outputs": [
    {
     "data": {
      "text/plain": [
       "array(['MASCULINO', 'FEMENINO', 'SD'], dtype=object)"
      ]
     },
     "execution_count": 42,
     "metadata": {},
     "output_type": "execute_result"
    }
   ],
   "source": [
    "df_victimas['SEXO'].unique()"
   ]
  },
  {
   "cell_type": "code",
   "execution_count": 44,
   "metadata": {},
   "outputs": [
    {
     "data": {
      "text/plain": [
       "SEXO\n",
       "MASCULINO    545\n",
       "FEMENINO     166\n",
       "SD             6\n",
       "Name: count, dtype: int64"
      ]
     },
     "execution_count": 44,
     "metadata": {},
     "output_type": "execute_result"
    }
   ],
   "source": [
    "df_victimas['SEXO'].value_counts()"
   ]
  },
  {
   "cell_type": "markdown",
   "metadata": {},
   "source": [
    "Los hombres representan el 75%, por lo que de los 6 datos 'SD' se asignan 4 a MASCULINO y 2 a FEMENINO de manera aleatoria."
   ]
  },
  {
   "cell_type": "code",
   "execution_count": 45,
   "metadata": {},
   "outputs": [],
   "source": [
    "indices_sd=df_victimas[df_victimas['SEXO']=='SD'].index.tolist()"
   ]
  },
  {
   "cell_type": "code",
   "execution_count": 46,
   "metadata": {},
   "outputs": [],
   "source": [
    "#Seleccion aleatoria de 4 incices para MASCULINO\n",
    "indices_masculino=np.random.choice(indices_sd, 4, replace=False)\n",
    "#Remocion de los 4 indices seleccionados de la lista original\n",
    "indices_restantes=list(set(indices_sd)-set(indices_masculino))\n",
    "#Los indices restantes se asignan a FEMENICO\n",
    "indices_femenino=np.random.choice(indices_restantes, 2, replace=False)"
   ]
  },
  {
   "cell_type": "markdown",
   "metadata": {},
   "source": [
    "Se remplaza en la seleccion aleatoria de los indices."
   ]
  },
  {
   "cell_type": "code",
   "execution_count": 47,
   "metadata": {},
   "outputs": [],
   "source": [
    "df_victimas.loc[indices_masculino, 'SEXO']='MASCULINO'\n",
    "df_victimas.loc[indices_femenino, 'SEXO']='FEMENINO'"
   ]
  },
  {
   "cell_type": "markdown",
   "metadata": {},
   "source": [
    "Conversion a variable dummy"
   ]
  },
  {
   "cell_type": "code",
   "execution_count": 48,
   "metadata": {},
   "outputs": [],
   "source": [
    "df_victimas['SEXO'] = df_victimas['SEXO'].apply(lambda x: 1 if x == 'MASCULINO' else (0 if x == 'FEMENINO' else None))\n"
   ]
  },
  {
   "cell_type": "code",
   "execution_count": 49,
   "metadata": {},
   "outputs": [
    {
     "data": {
      "text/plain": [
       "ROL\n",
       "CONDUCTOR               330\n",
       "PEATON                  267\n",
       "PASAJERO_ACOMPAÑANTE     80\n",
       "CICLISTA                 29\n",
       "SD                       11\n",
       "Name: count, dtype: int64"
      ]
     },
     "execution_count": 49,
     "metadata": {},
     "output_type": "execute_result"
    }
   ],
   "source": [
    "df_victimas['ROL'].value_counts()\n"
   ]
  },
  {
   "cell_type": "markdown",
   "metadata": {},
   "source": [
    "Encuanto al 'ROL' (1.5%) son 'SD', como es una variable categorica no ordinal, los 'SD' se van a llenar de manera aleatoria con las vategorias correspondientes a 'CONDUCTOR' (46%) y 'PEATON' (37%), se asignan 6 aleatoriamente a 'CONDUCTOR' y 5 a 'PEATON', respetando las proporciones."
   ]
  },
  {
   "cell_type": "code",
   "execution_count": 50,
   "metadata": {},
   "outputs": [],
   "source": [
    "indices_ROL=df_victimas[df_victimas['ROL'] =='SD'].index.tolist()"
   ]
  },
  {
   "cell_type": "code",
   "execution_count": 51,
   "metadata": {},
   "outputs": [],
   "source": [
    "#Seleccion aleatoria de 6 incices para CONDUCTOR\n",
    "indices_conductor=np.random.choice(indices_ROL, 6, replace=False)\n",
    "#Remocion de los 6 indices seleccionados de la lista original\n",
    "indices_restantes_1=list(set(indices_ROL)-set(indices_conductor))\n",
    "#Los indices restantes se asignan a PEATON\n",
    "indices_peaton=np.random.choice(indices_restantes_1, 5, replace=False)"
   ]
  },
  {
   "cell_type": "code",
   "execution_count": 52,
   "metadata": {},
   "outputs": [],
   "source": [
    "df_victimas.loc[indices_conductor, 'ROL']='CONDUCTOR'\n",
    "df_victimas.loc[indices_peaton, 'ROL']='PEATON'"
   ]
  },
  {
   "cell_type": "code",
   "execution_count": 53,
   "metadata": {},
   "outputs": [
    {
     "data": {
      "text/plain": [
       "ROL\n",
       "CONDUCTOR               336\n",
       "PEATON                  272\n",
       "PASAJERO_ACOMPAÑANTE     80\n",
       "CICLISTA                 29\n",
       "Name: count, dtype: int64"
      ]
     },
     "execution_count": 53,
     "metadata": {},
     "output_type": "execute_result"
    }
   ],
   "source": [
    "df_victimas['ROL'].value_counts()"
   ]
  },
  {
   "cell_type": "markdown",
   "metadata": {},
   "source": [
    "En la variable 'VICTIMA' se eliminan los 'SD' QUE REPRESENTAN EL 1.2%, se asigna aleatoriamente respetando las proporciones los dos valores mas probables de la variable que corresponden a las categorias 'MOTO' y 'PEATON'."
   ]
  },
  {
   "cell_type": "code",
   "execution_count": 54,
   "metadata": {},
   "outputs": [
    {
     "data": {
      "text/plain": [
       "VICTIMA\n",
       "MOTO         303\n",
       "PEATON       267\n",
       "AUTO          94\n",
       "BICICLETA     29\n",
       "SD             9\n",
       "CARGAS         7\n",
       "PASAJEROS      5\n",
       "MOVIL          3\n",
       "Name: count, dtype: int64"
      ]
     },
     "execution_count": 54,
     "metadata": {},
     "output_type": "execute_result"
    }
   ],
   "source": [
    "df_victimas['VICTIMA'].value_counts()"
   ]
  },
  {
   "cell_type": "code",
   "execution_count": 55,
   "metadata": {},
   "outputs": [],
   "source": [
    "indices_victima=df_victimas[df_victimas['VICTIMA']=='SD'].index.tolist()"
   ]
  },
  {
   "cell_type": "code",
   "execution_count": 56,
   "metadata": {},
   "outputs": [],
   "source": [
    "#Seleccion aleatoria de 5 incices para MOTO\n",
    "indices_moto=np.random.choice(indices_victima, 5, replace=False)\n",
    "#Remocion de los 6 indices seleccionados de la lista original\n",
    "indices_restantes_2=list(set(indices_victima)-set(indices_moto))\n",
    "#Los indices restantes se asignan a PEATON\n",
    "indices_peaton1=np.random.choice(indices_restantes_2, 4, replace=False)"
   ]
  },
  {
   "cell_type": "code",
   "execution_count": 57,
   "metadata": {},
   "outputs": [],
   "source": [
    "df_victimas.loc[indices_moto, 'VICTIMA']='MOTO'\n",
    "df_victimas.loc[indices_peaton1, 'VICTIMA']='PEATON'"
   ]
  },
  {
   "cell_type": "code",
   "execution_count": 58,
   "metadata": {},
   "outputs": [
    {
     "data": {
      "text/plain": [
       "VICTIMA\n",
       "MOTO         308\n",
       "PEATON       271\n",
       "AUTO          94\n",
       "BICICLETA     29\n",
       "CARGAS         7\n",
       "PASAJEROS      5\n",
       "MOVIL          3\n",
       "Name: count, dtype: int64"
      ]
     },
     "execution_count": 58,
     "metadata": {},
     "output_type": "execute_result"
    }
   ],
   "source": [
    "df_victimas['VICTIMA'].value_counts()"
   ]
  },
  {
   "cell_type": "markdown",
   "metadata": {},
   "source": [
    "Ahora se trabaja con la fecha y hora de fallecimiento"
   ]
  },
  {
   "cell_type": "code",
   "execution_count": 59,
   "metadata": {},
   "outputs": [
    {
     "name": "stdout",
     "output_type": "stream",
     "text": [
      "68\n"
     ]
    }
   ],
   "source": [
    "conteo_SD = df_victimas[df_victimas['FECHA_FALLECIMIENTO'] == 'SD']['FECHA_FALLECIMIENTO'].count()\n",
    "print(conteo_SD)"
   ]
  },
  {
   "cell_type": "markdown",
   "metadata": {},
   "source": [
    "Los valores 'SD' representan el 9% de las observaciones (filas) de la muestra (dataframe), por lo que no es conveniente eliminarlos, por lo que el procedimiento a seguir es asignar la fecha promedio."
   ]
  },
  {
   "cell_type": "markdown",
   "metadata": {},
   "source": [
    "Se usa la fecha generica 1950-01-01, para despues remplazarla por la fecha promedio de cada año"
   ]
  },
  {
   "cell_type": "code",
   "execution_count": 60,
   "metadata": {},
   "outputs": [],
   "source": [
    "df_victimas['FECHA_FALLECIMIENTO'] = df_victimas['FECHA_FALLECIMIENTO'].replace('SD', '1950-01-01 00:00:00')"
   ]
  },
  {
   "cell_type": "code",
   "execution_count": 61,
   "metadata": {},
   "outputs": [],
   "source": [
    "# Convertir la columna a datetime\n",
    "df_victimas['FECHA_FALLECIMIENTO'] = pd.to_datetime(df_victimas['FECHA_FALLECIMIENTO'])\n",
    "\n",
    "# Quitar la hora y mantener solo la fecha\n",
    "df_victimas['FECHA_FALLECIMIENTO'] = df_victimas['FECHA_FALLECIMIENTO'].dt.date\n"
   ]
  },
  {
   "cell_type": "code",
   "execution_count": 62,
   "metadata": {},
   "outputs": [],
   "source": [
    "df_filtrado = df_victimas[df_victimas['FECHA_FALLECIMIENTO'] != pd.to_datetime('1950-01-01').date()]\n"
   ]
  },
  {
   "cell_type": "code",
   "execution_count": 63,
   "metadata": {},
   "outputs": [
    {
     "data": {
      "text/plain": [
       "(649, 10)"
      ]
     },
     "execution_count": 63,
     "metadata": {},
     "output_type": "execute_result"
    }
   ],
   "source": [
    "df_filtrado.shape"
   ]
  },
  {
   "cell_type": "code",
   "execution_count": 64,
   "metadata": {},
   "outputs": [
    {
     "name": "stderr",
     "output_type": "stream",
     "text": [
      "C:\\Users\\57319\\AppData\\Local\\Temp\\ipykernel_13136\\554363828.py:2: SettingWithCopyWarning: \n",
      "A value is trying to be set on a copy of a slice from a DataFrame.\n",
      "Try using .loc[row_indexer,col_indexer] = value instead\n",
      "\n",
      "See the caveats in the documentation: https://pandas.pydata.org/pandas-docs/stable/user_guide/indexing.html#returning-a-view-versus-a-copy\n",
      "  df_filtrado['FECHA_FALLECIMIENTO'] = pd.to_datetime(df_filtrado['FECHA_FALLECIMIENTO'])\n"
     ]
    }
   ],
   "source": [
    "# Convertir la fecha a datetime si no lo está\n",
    "df_filtrado['FECHA_FALLECIMIENTO'] = pd.to_datetime(df_filtrado['FECHA_FALLECIMIENTO'])\n",
    "\n",
    "# Agrupar por año y calcular la fecha promedio\n",
    "fecha_promedio = df_filtrado.groupby('AAAA')['FECHA_FALLECIMIENTO'].mean()\n",
    "\n",
    "# Convertir a string con formato 'YYYY-MM-DD'\n",
    "fecha_promedio = fecha_promedio.dt.strftime('%Y-%m-%d')\n",
    "\n",
    "# Convertir el resultado a DataFrame\n",
    "fecha_promedio = fecha_promedio.reset_index()\n"
   ]
  },
  {
   "cell_type": "code",
   "execution_count": 65,
   "metadata": {},
   "outputs": [],
   "source": [
    "# Convertir a formato de fecha\n",
    "fecha_promedio['FECHA_FALLECIMIENTO'] = pd.to_datetime(fecha_promedio['FECHA_FALLECIMIENTO'])\n"
   ]
  },
  {
   "cell_type": "code",
   "execution_count": 66,
   "metadata": {},
   "outputs": [],
   "source": [
    "fecha_promedio = fecha_promedio.rename(columns={'FECHA_FALLECIMIENTO': 'MEAN_DATE_YEAR'})"
   ]
  },
  {
   "cell_type": "code",
   "execution_count": 67,
   "metadata": {},
   "outputs": [
    {
     "data": {
      "text/html": [
       "<div>\n",
       "<style scoped>\n",
       "    .dataframe tbody tr th:only-of-type {\n",
       "        vertical-align: middle;\n",
       "    }\n",
       "\n",
       "    .dataframe tbody tr th {\n",
       "        vertical-align: top;\n",
       "    }\n",
       "\n",
       "    .dataframe thead th {\n",
       "        text-align: right;\n",
       "    }\n",
       "</style>\n",
       "<table border=\"1\" class=\"dataframe\">\n",
       "  <thead>\n",
       "    <tr style=\"text-align: right;\">\n",
       "      <th></th>\n",
       "      <th>AAAA</th>\n",
       "      <th>MEAN_DATE_YEAR</th>\n",
       "    </tr>\n",
       "  </thead>\n",
       "  <tbody>\n",
       "    <tr>\n",
       "      <th>0</th>\n",
       "      <td>2016</td>\n",
       "      <td>2016-06-19</td>\n",
       "    </tr>\n",
       "    <tr>\n",
       "      <th>1</th>\n",
       "      <td>2017</td>\n",
       "      <td>2017-07-03</td>\n",
       "    </tr>\n",
       "    <tr>\n",
       "      <th>2</th>\n",
       "      <td>2018</td>\n",
       "      <td>2018-07-06</td>\n",
       "    </tr>\n",
       "    <tr>\n",
       "      <th>3</th>\n",
       "      <td>2019</td>\n",
       "      <td>2019-06-21</td>\n",
       "    </tr>\n",
       "    <tr>\n",
       "      <th>4</th>\n",
       "      <td>2020</td>\n",
       "      <td>2020-08-07</td>\n",
       "    </tr>\n",
       "    <tr>\n",
       "      <th>5</th>\n",
       "      <td>2021</td>\n",
       "      <td>2021-06-20</td>\n",
       "    </tr>\n",
       "  </tbody>\n",
       "</table>\n",
       "</div>"
      ],
      "text/plain": [
       "   AAAA MEAN_DATE_YEAR\n",
       "0  2016     2016-06-19\n",
       "1  2017     2017-07-03\n",
       "2  2018     2018-07-06\n",
       "3  2019     2019-06-21\n",
       "4  2020     2020-08-07\n",
       "5  2021     2021-06-20"
      ]
     },
     "execution_count": 67,
     "metadata": {},
     "output_type": "execute_result"
    }
   ],
   "source": [
    "fecha_promedio"
   ]
  },
  {
   "cell_type": "markdown",
   "metadata": {},
   "source": [
    "Ahora en el df original, se remplaza la fecha generica '1950-01-01', en funcion de la columna año, usando el promedio por año."
   ]
  },
  {
   "cell_type": "code",
   "execution_count": 212,
   "metadata": {},
   "outputs": [],
   "source": [
    "from datetime import datetime, date"
   ]
  },
  {
   "cell_type": "code",
   "execution_count": 168,
   "metadata": {},
   "outputs": [],
   "source": [
    "df_victimas.loc[(df_victimas['AAAA'] == 2016) & (df_victimas['FECHA_FALLECIMIENTO'] == date(1950, 1, 1)), 'FECHA_FALLECIMIENTO'] = date(2016, 6, 19)\n",
    "df_victimas.loc[(df_victimas['AAAA'] == 2017) & (df_victimas['FECHA_FALLECIMIENTO'] == date(1950, 1, 1)), 'FECHA_FALLECIMIENTO'] = date(2017, 7, 3)\n",
    "df_victimas.loc[(df_victimas['AAAA'] == 2018) & (df_victimas['FECHA_FALLECIMIENTO'] == date(1950, 1, 1)), 'FECHA_FALLECIMIENTO'] = date(2018, 7, 6)\n",
    "df_victimas.loc[(df_victimas['AAAA'] == 2019) & (df_victimas['FECHA_FALLECIMIENTO'] == date(1950, 1, 1)), 'FECHA_FALLECIMIENTO'] = date(2019, 6, 21)\n",
    "df_victimas.loc[(df_victimas['AAAA'] == 2020) & (df_victimas['FECHA_FALLECIMIENTO'] == date(1950, 1, 1)), 'FECHA_FALLECIMIENTO'] = date(2020, 8, 7)\n",
    "df_victimas.loc[(df_victimas['AAAA'] == 2021) & (df_victimas['FECHA_FALLECIMIENTO'] == date(1950, 1, 1)), 'FECHA_FALLECIMIENTO'] = date(2021, 6, 21)"
   ]
  },
  {
   "cell_type": "code",
   "execution_count": 70,
   "metadata": {},
   "outputs": [
    {
     "data": {
      "text/html": [
       "<div>\n",
       "<style scoped>\n",
       "    .dataframe tbody tr th:only-of-type {\n",
       "        vertical-align: middle;\n",
       "    }\n",
       "\n",
       "    .dataframe tbody tr th {\n",
       "        vertical-align: top;\n",
       "    }\n",
       "\n",
       "    .dataframe thead th {\n",
       "        text-align: right;\n",
       "    }\n",
       "</style>\n",
       "<table border=\"1\" class=\"dataframe\">\n",
       "  <thead>\n",
       "    <tr style=\"text-align: right;\">\n",
       "      <th></th>\n",
       "      <th>ID_hecho</th>\n",
       "      <th>FECHA</th>\n",
       "      <th>AAAA</th>\n",
       "      <th>MM</th>\n",
       "      <th>DD</th>\n",
       "      <th>ROL</th>\n",
       "      <th>VICTIMA</th>\n",
       "      <th>SEXO</th>\n",
       "      <th>EDAD</th>\n",
       "      <th>FECHA_FALLECIMIENTO</th>\n",
       "    </tr>\n",
       "  </thead>\n",
       "  <tbody>\n",
       "    <tr>\n",
       "      <th>0</th>\n",
       "      <td>2016-0001</td>\n",
       "      <td>2016-01-01</td>\n",
       "      <td>2016</td>\n",
       "      <td>1</td>\n",
       "      <td>1</td>\n",
       "      <td>CONDUCTOR</td>\n",
       "      <td>MOTO</td>\n",
       "      <td>1</td>\n",
       "      <td>19</td>\n",
       "      <td>2016-01-01</td>\n",
       "    </tr>\n",
       "    <tr>\n",
       "      <th>1</th>\n",
       "      <td>2016-0002</td>\n",
       "      <td>2016-01-02</td>\n",
       "      <td>2016</td>\n",
       "      <td>1</td>\n",
       "      <td>2</td>\n",
       "      <td>CONDUCTOR</td>\n",
       "      <td>AUTO</td>\n",
       "      <td>1</td>\n",
       "      <td>70</td>\n",
       "      <td>2016-01-02</td>\n",
       "    </tr>\n",
       "    <tr>\n",
       "      <th>2</th>\n",
       "      <td>2016-0003</td>\n",
       "      <td>2016-01-03</td>\n",
       "      <td>2016</td>\n",
       "      <td>1</td>\n",
       "      <td>3</td>\n",
       "      <td>CONDUCTOR</td>\n",
       "      <td>MOTO</td>\n",
       "      <td>1</td>\n",
       "      <td>30</td>\n",
       "      <td>2016-01-03</td>\n",
       "    </tr>\n",
       "    <tr>\n",
       "      <th>3</th>\n",
       "      <td>2016-0004</td>\n",
       "      <td>2016-01-10</td>\n",
       "      <td>2016</td>\n",
       "      <td>1</td>\n",
       "      <td>10</td>\n",
       "      <td>CONDUCTOR</td>\n",
       "      <td>MOTO</td>\n",
       "      <td>1</td>\n",
       "      <td>18</td>\n",
       "      <td>2016-06-19</td>\n",
       "    </tr>\n",
       "    <tr>\n",
       "      <th>4</th>\n",
       "      <td>2016-0005</td>\n",
       "      <td>2016-01-21</td>\n",
       "      <td>2016</td>\n",
       "      <td>1</td>\n",
       "      <td>21</td>\n",
       "      <td>CONDUCTOR</td>\n",
       "      <td>MOTO</td>\n",
       "      <td>1</td>\n",
       "      <td>29</td>\n",
       "      <td>2016-02-01</td>\n",
       "    </tr>\n",
       "  </tbody>\n",
       "</table>\n",
       "</div>"
      ],
      "text/plain": [
       "    ID_hecho      FECHA  AAAA  MM  DD        ROL VICTIMA  SEXO  EDAD  \\\n",
       "0  2016-0001 2016-01-01  2016   1   1  CONDUCTOR    MOTO     1    19   \n",
       "1  2016-0002 2016-01-02  2016   1   2  CONDUCTOR    AUTO     1    70   \n",
       "2  2016-0003 2016-01-03  2016   1   3  CONDUCTOR    MOTO     1    30   \n",
       "3  2016-0004 2016-01-10  2016   1  10  CONDUCTOR    MOTO     1    18   \n",
       "4  2016-0005 2016-01-21  2016   1  21  CONDUCTOR    MOTO     1    29   \n",
       "\n",
       "  FECHA_FALLECIMIENTO  \n",
       "0          2016-01-01  \n",
       "1          2016-01-02  \n",
       "2          2016-01-03  \n",
       "3          2016-06-19  \n",
       "4          2016-02-01  "
      ]
     },
     "execution_count": 70,
     "metadata": {},
     "output_type": "execute_result"
    }
   ],
   "source": [
    "df_victimas.head()"
   ]
  },
  {
   "cell_type": "code",
   "execution_count": 71,
   "metadata": {},
   "outputs": [],
   "source": [
    "df_victimas=df_victimas.rename(columns={'ID_hecho':'ID'})"
   ]
  },
  {
   "cell_type": "code",
   "execution_count": null,
   "metadata": {},
   "outputs": [],
   "source": [
    "df_victimas.describe()"
   ]
  },
  {
   "cell_type": "code",
   "execution_count": 73,
   "metadata": {},
   "outputs": [],
   "source": [
    "df_victimas.to_csv('victimas.csv', index='False')"
   ]
  },
  {
   "cell_type": "markdown",
   "metadata": {},
   "source": [
    "Se unifican las bases de datos en un solo dataframe"
   ]
  },
  {
   "cell_type": "code",
   "execution_count": 190,
   "metadata": {},
   "outputs": [],
   "source": [
    "df_victimas_fatales=df_victimas.merge(hechos, on='ID', how='left')"
   ]
  },
  {
   "cell_type": "code",
   "execution_count": null,
   "metadata": {},
   "outputs": [],
   "source": [
    "df_victimas_fatales.head()"
   ]
  },
  {
   "cell_type": "code",
   "execution_count": 127,
   "metadata": {},
   "outputs": [],
   "source": [
    "def contar_SD(df, valor):\n",
    "    q_SD={}\n",
    "    for columna in df.columns:\n",
    "        q_SD[columna]=(df[columna]== valor).sum()\n",
    "    return q_SD"
   ]
  },
  {
   "cell_type": "code",
   "execution_count": 192,
   "metadata": {},
   "outputs": [
    {
     "data": {
      "text/plain": [
       "{'ID': 0,\n",
       " 'FECHA_x': 0,\n",
       " 'AAAA_x': 0,\n",
       " 'MM_x': 0,\n",
       " 'DD_x': 0,\n",
       " 'ROL': 0,\n",
       " 'VICTIMA_x': 0,\n",
       " 'SEXO': 0,\n",
       " 'EDAD': 0,\n",
       " 'FECHA_FALLECIMIENTO': 0,\n",
       " 'N_VICTIMAS': 0,\n",
       " 'FECHA_y': 0,\n",
       " 'AAAA_y': 0,\n",
       " 'MM_y': 0,\n",
       " 'DD_y': 0,\n",
       " 'HORA': 0,\n",
       " 'HH': 0,\n",
       " 'TIPO_DE_CALLE': 0,\n",
       " 'COMUNA': 0,\n",
       " 'NOMBRE_COMUNA': 0,\n",
       " 'longitud': 0,\n",
       " 'latitud': 0,\n",
       " 'VICTIMA_y': 8,\n",
       " 'ACUSADO': 21}"
      ]
     },
     "execution_count": 192,
     "metadata": {},
     "output_type": "execute_result"
    }
   ],
   "source": [
    "contar_SD(df_victimas_fatales, 'SD')"
   ]
  },
  {
   "cell_type": "code",
   "execution_count": 193,
   "metadata": {},
   "outputs": [
    {
     "data": {
      "text/plain": [
       "ACUSADO\n",
       "AUTO           210\n",
       "PASAJEROS      178\n",
       "CARGAS         150\n",
       "OBJETO FIJO     67\n",
       "MOTO            58\n",
       "SD              21\n",
       "MULTIPLE        17\n",
       "BICICLETA        7\n",
       "OTRO             6\n",
       "TREN             1\n",
       "Name: count, dtype: int64"
      ]
     },
     "execution_count": 193,
     "metadata": {},
     "output_type": "execute_result"
    }
   ],
   "source": [
    "df_victimas_fatales['ACUSADO'].value_counts()"
   ]
  },
  {
   "cell_type": "code",
   "execution_count": 194,
   "metadata": {},
   "outputs": [],
   "source": [
    "index_acusado=df_victimas_fatales[df_victimas_fatales['ACUSADO']=='SD'].index.tolist()"
   ]
  },
  {
   "cell_type": "code",
   "execution_count": 195,
   "metadata": {},
   "outputs": [
    {
     "data": {
      "text/plain": [
       "21"
      ]
     },
     "execution_count": 195,
     "metadata": {},
     "output_type": "execute_result"
    }
   ],
   "source": [
    "len(index_acusado)"
   ]
  },
  {
   "cell_type": "markdown",
   "metadata": {},
   "source": [
    "los faltantes se van a asignar aleatoriamente a los 3 valores mas probables respetando la proporcion de estos.\n",
    "se tienen 21 datos en sd, se van a asignar asi (8, 7, 6) => (autos, pasajeros, cargas)."
   ]
  },
  {
   "cell_type": "code",
   "execution_count": 196,
   "metadata": {},
   "outputs": [],
   "source": [
    "indices_autos=np.random.choice(index_acusado, 8, replace=False)\n",
    "index_acusado1=list(set(index_acusado)-set(indices_autos))\n",
    "indices_pasajeros=np.random.choice(index_acusado1, 7, replace=False)\n",
    "index_acusado2=list(set(index_acusado1)-set(indices_pasajeros))\n",
    "indices_cargas=np.random.choice(index_acusado2, 6, replace=False)"
   ]
  },
  {
   "cell_type": "code",
   "execution_count": 197,
   "metadata": {},
   "outputs": [],
   "source": [
    "df_victimas_fatales.loc[indices_autos, 'ACUSADO']='AUTO'\n",
    "df_victimas_fatales.loc[indices_pasajeros, 'ACUSADO']='PASAJEROS'\n",
    "df_victimas_fatales.loc[indices_cargas, 'ACUSADO']='CARGAS'"
   ]
  },
  {
   "cell_type": "markdown",
   "metadata": {},
   "source": [
    "se descartan las filas con valoes nulos en su ubicacion"
   ]
  },
  {
   "cell_type": "code",
   "execution_count": 201,
   "metadata": {},
   "outputs": [],
   "source": [
    "df_victimas_fatales=df_victimas_fatales.dropna()"
   ]
  },
  {
   "cell_type": "code",
   "execution_count": 203,
   "metadata": {},
   "outputs": [
    {
     "data": {
      "text/plain": [
       "(715, 24)"
      ]
     },
     "execution_count": 203,
     "metadata": {},
     "output_type": "execute_result"
    }
   ],
   "source": [
    "df_victimas_fatales.shape"
   ]
  },
  {
   "cell_type": "code",
   "execution_count": 205,
   "metadata": {},
   "outputs": [],
   "source": [
    "df_victimas_fatales=df_victimas_fatales.drop(['FECHA_y', 'AAAA_y','MM_y', 'DD_y','HORA', 'FECHA_FALLECIMIENTO'], axis=1)"
   ]
  },
  {
   "cell_type": "code",
   "execution_count": 208,
   "metadata": {},
   "outputs": [],
   "source": [
    "df_victimas_fatales['COMUNA']=df_victimas_fatales['COMUNA'].astype(int)"
   ]
  },
  {
   "cell_type": "markdown",
   "metadata": {},
   "source": [
    "Se va a incorporar una columna con grupos etarios"
   ]
  },
  {
   "cell_type": "code",
   "execution_count": 218,
   "metadata": {},
   "outputs": [],
   "source": [
    "rangos=[0, 12, 18, 35, 50, 65, 100]\n",
    "etiquetas=['Niño', 'Adolecente', 'Joven Adulto', 'Adulto', 'Adulto Mayor', 'Anciano' ]"
   ]
  },
  {
   "cell_type": "code",
   "execution_count": 219,
   "metadata": {},
   "outputs": [],
   "source": [
    "df_victimas_fatales['Grupo_Etario'] = pd.cut(df_victimas_fatales['EDAD'], bins=rangos, labels=etiquetas, right=False)"
   ]
  },
  {
   "cell_type": "code",
   "execution_count": 223,
   "metadata": {},
   "outputs": [
    {
     "data": {
      "text/html": [
       "<div>\n",
       "<style scoped>\n",
       "    .dataframe tbody tr th:only-of-type {\n",
       "        vertical-align: middle;\n",
       "    }\n",
       "\n",
       "    .dataframe tbody tr th {\n",
       "        vertical-align: top;\n",
       "    }\n",
       "\n",
       "    .dataframe thead th {\n",
       "        text-align: right;\n",
       "    }\n",
       "</style>\n",
       "<table border=\"1\" class=\"dataframe\">\n",
       "  <thead>\n",
       "    <tr style=\"text-align: right;\">\n",
       "      <th></th>\n",
       "      <th>ID</th>\n",
       "      <th>FECHA_x</th>\n",
       "      <th>AAAA_x</th>\n",
       "      <th>MM_x</th>\n",
       "      <th>DD_x</th>\n",
       "      <th>ROL</th>\n",
       "      <th>VICTIMA_x</th>\n",
       "      <th>SEXO</th>\n",
       "      <th>EDAD</th>\n",
       "      <th>N_VICTIMAS</th>\n",
       "      <th>HH</th>\n",
       "      <th>TIPO_DE_CALLE</th>\n",
       "      <th>COMUNA</th>\n",
       "      <th>NOMBRE_COMUNA</th>\n",
       "      <th>longitud</th>\n",
       "      <th>latitud</th>\n",
       "      <th>VICTIMA_y</th>\n",
       "      <th>ACUSADO</th>\n",
       "      <th>Grupo_Etario</th>\n",
       "    </tr>\n",
       "  </thead>\n",
       "  <tbody>\n",
       "    <tr>\n",
       "      <th>0</th>\n",
       "      <td>2016-0001</td>\n",
       "      <td>2016-01-01</td>\n",
       "      <td>2016</td>\n",
       "      <td>1</td>\n",
       "      <td>1</td>\n",
       "      <td>CONDUCTOR</td>\n",
       "      <td>MOTO</td>\n",
       "      <td>1</td>\n",
       "      <td>19</td>\n",
       "      <td>1.0</td>\n",
       "      <td>4</td>\n",
       "      <td>AVENIDA</td>\n",
       "      <td>8</td>\n",
       "      <td>Villa Soldati, Villa Riachuelo y Villa Lugano.</td>\n",
       "      <td>-58.47533969</td>\n",
       "      <td>-34.68757022</td>\n",
       "      <td>MOTO</td>\n",
       "      <td>AUTO</td>\n",
       "      <td>Joven Adulto</td>\n",
       "    </tr>\n",
       "    <tr>\n",
       "      <th>1</th>\n",
       "      <td>2016-0002</td>\n",
       "      <td>2016-01-02</td>\n",
       "      <td>2016</td>\n",
       "      <td>1</td>\n",
       "      <td>2</td>\n",
       "      <td>CONDUCTOR</td>\n",
       "      <td>AUTO</td>\n",
       "      <td>1</td>\n",
       "      <td>70</td>\n",
       "      <td>1.0</td>\n",
       "      <td>1</td>\n",
       "      <td>GRAL PAZ</td>\n",
       "      <td>9</td>\n",
       "      <td>Liniers, Mataderos y Parque Avellaneda.</td>\n",
       "      <td>-58.50877521</td>\n",
       "      <td>-34.66977709</td>\n",
       "      <td>AUTO</td>\n",
       "      <td>PASAJEROS</td>\n",
       "      <td>Anciano</td>\n",
       "    </tr>\n",
       "    <tr>\n",
       "      <th>2</th>\n",
       "      <td>2016-0003</td>\n",
       "      <td>2016-01-03</td>\n",
       "      <td>2016</td>\n",
       "      <td>1</td>\n",
       "      <td>3</td>\n",
       "      <td>CONDUCTOR</td>\n",
       "      <td>MOTO</td>\n",
       "      <td>1</td>\n",
       "      <td>30</td>\n",
       "      <td>1.0</td>\n",
       "      <td>7</td>\n",
       "      <td>AVENIDA</td>\n",
       "      <td>1</td>\n",
       "      <td>Retiro, San Nicolás, Puerto Madero, San Telmo,...</td>\n",
       "      <td>-58.39040293</td>\n",
       "      <td>-34.63189362</td>\n",
       "      <td>MOTO</td>\n",
       "      <td>AUTO</td>\n",
       "      <td>Joven Adulto</td>\n",
       "    </tr>\n",
       "    <tr>\n",
       "      <th>3</th>\n",
       "      <td>2016-0004</td>\n",
       "      <td>2016-01-10</td>\n",
       "      <td>2016</td>\n",
       "      <td>1</td>\n",
       "      <td>10</td>\n",
       "      <td>CONDUCTOR</td>\n",
       "      <td>MOTO</td>\n",
       "      <td>1</td>\n",
       "      <td>18</td>\n",
       "      <td>1.0</td>\n",
       "      <td>0</td>\n",
       "      <td>AVENIDA</td>\n",
       "      <td>8</td>\n",
       "      <td>Villa Soldati, Villa Riachuelo y Villa Lugano.</td>\n",
       "      <td>-58.46503904</td>\n",
       "      <td>-34.68092974</td>\n",
       "      <td>MOTO</td>\n",
       "      <td>PASAJEROS</td>\n",
       "      <td>Joven Adulto</td>\n",
       "    </tr>\n",
       "    <tr>\n",
       "      <th>4</th>\n",
       "      <td>2016-0005</td>\n",
       "      <td>2016-01-21</td>\n",
       "      <td>2016</td>\n",
       "      <td>1</td>\n",
       "      <td>21</td>\n",
       "      <td>CONDUCTOR</td>\n",
       "      <td>MOTO</td>\n",
       "      <td>1</td>\n",
       "      <td>29</td>\n",
       "      <td>1.0</td>\n",
       "      <td>5</td>\n",
       "      <td>AVENIDA</td>\n",
       "      <td>1</td>\n",
       "      <td>Retiro, San Nicolás, Puerto Madero, San Telmo,...</td>\n",
       "      <td>-58.38718297</td>\n",
       "      <td>-34.62246630</td>\n",
       "      <td>MOTO</td>\n",
       "      <td>PASAJEROS</td>\n",
       "      <td>Joven Adulto</td>\n",
       "    </tr>\n",
       "  </tbody>\n",
       "</table>\n",
       "</div>"
      ],
      "text/plain": [
       "          ID    FECHA_x  AAAA_x  MM_x  DD_x        ROL VICTIMA_x  SEXO  EDAD  \\\n",
       "0  2016-0001 2016-01-01    2016     1     1  CONDUCTOR      MOTO     1    19   \n",
       "1  2016-0002 2016-01-02    2016     1     2  CONDUCTOR      AUTO     1    70   \n",
       "2  2016-0003 2016-01-03    2016     1     3  CONDUCTOR      MOTO     1    30   \n",
       "3  2016-0004 2016-01-10    2016     1    10  CONDUCTOR      MOTO     1    18   \n",
       "4  2016-0005 2016-01-21    2016     1    21  CONDUCTOR      MOTO     1    29   \n",
       "\n",
       "   N_VICTIMAS HH TIPO_DE_CALLE  COMUNA  \\\n",
       "0         1.0  4       AVENIDA       8   \n",
       "1         1.0  1      GRAL PAZ       9   \n",
       "2         1.0  7       AVENIDA       1   \n",
       "3         1.0  0       AVENIDA       8   \n",
       "4         1.0  5       AVENIDA       1   \n",
       "\n",
       "                                       NOMBRE_COMUNA      longitud  \\\n",
       "0     Villa Soldati, Villa Riachuelo y Villa Lugano.  -58.47533969   \n",
       "1            Liniers, Mataderos y Parque Avellaneda.  -58.50877521   \n",
       "2  Retiro, San Nicolás, Puerto Madero, San Telmo,...  -58.39040293   \n",
       "3     Villa Soldati, Villa Riachuelo y Villa Lugano.  -58.46503904   \n",
       "4  Retiro, San Nicolás, Puerto Madero, San Telmo,...  -58.38718297   \n",
       "\n",
       "        latitud VICTIMA_y    ACUSADO  Grupo_Etario  \n",
       "0  -34.68757022      MOTO       AUTO  Joven Adulto  \n",
       "1  -34.66977709      AUTO  PASAJEROS       Anciano  \n",
       "2  -34.63189362      MOTO       AUTO  Joven Adulto  \n",
       "3  -34.68092974      MOTO  PASAJEROS  Joven Adulto  \n",
       "4  -34.62246630      MOTO  PASAJEROS  Joven Adulto  "
      ]
     },
     "execution_count": 223,
     "metadata": {},
     "output_type": "execute_result"
    }
   ],
   "source": [
    "df_victimas_fatales.head()"
   ]
  },
  {
   "cell_type": "code",
   "execution_count": 224,
   "metadata": {},
   "outputs": [],
   "source": [
    "df_victimas_fatales.to_csv('victimas_fatales.csv', index=False)"
   ]
  }
 ],
 "metadata": {
  "kernelspec": {
   "display_name": "Python 3",
   "language": "python",
   "name": "python3"
  },
  "language_info": {
   "codemirror_mode": {
    "name": "ipython",
    "version": 3
   },
   "file_extension": ".py",
   "mimetype": "text/x-python",
   "name": "python",
   "nbconvert_exporter": "python",
   "pygments_lexer": "ipython3",
   "version": "3.10.11"
  }
 },
 "nbformat": 4,
 "nbformat_minor": 2
}
